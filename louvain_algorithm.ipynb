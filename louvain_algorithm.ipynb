{
 "metadata": {
  "language_info": {
   "codemirror_mode": {
    "name": "ipython",
    "version": 3
   },
   "file_extension": ".py",
   "mimetype": "text/x-python",
   "name": "python",
   "nbconvert_exporter": "python",
   "pygments_lexer": "ipython3",
   "version": "3.8.2-final"
  },
  "orig_nbformat": 2,
  "kernelspec": {
   "name": "python38264bit41770f51cb494085b126429b02db281f",
   "display_name": "Python 3.8.2 64-bit"
  }
 },
 "nbformat": 4,
 "nbformat_minor": 2,
 "cells": [
  {
   "cell_type": "code",
   "execution_count": 10,
   "metadata": {},
   "outputs": [],
   "source": [
    "import torch\n",
    "import torch.nn.functional as F \n",
    "from torch_geometric.datasets import WikiCS,  CitationFull,  Coauthor, KarateClub\n",
    "from torch_geometric.data import Data\n",
    "import utils\n",
    "from utils import count_out_degree, make_adj_matrix, count_in_degree, create_pointer_graph\n",
    "import math\n",
    "import copy\n",
    "import random\n",
    "import matplotlib.pyplot"
   ]
  },
  {
   "cell_type": "code",
   "execution_count": 67,
   "metadata": {},
   "outputs": [
    {
     "output_type": "execute_result",
     "data": {
      "text/plain": "Data(edge_index=[2, 232], x=[64, 1])"
     },
     "metadata": {},
     "execution_count": 67
    }
   ],
   "source": [
    "\n",
    "edges0 = torch.tensor([[0, 0, 0], [1, 2, 3]])\n",
    "edges1 = torch.cat((edges0, edges0+1, edges0+2, edges0+3), dim=1)%4\n",
    "edges2 = torch.cat((edges1, edges1+4, edges1+8, edges1+12), dim=1)\n",
    "l = [i*2+2 for i in range(8)]\n",
    "l2= [[i*2+2, i*2+4] for i in range(0, 8, 2)]\n",
    "l2 = [nek for nes in l2 for nek in nes[::-1]]\n",
    "edges_extra = torch.tensor([l, l2])%16\n",
    "edges3 = torch.cat((edges2, edges_extra), dim=1)\n",
    "x = torch.zeros(16, 1)\n",
    "graph = Data(edge_index=edges3, x = x)\n",
    "\n",
    "edgesextra = torch.tensor([[0, 15, 16, 31, 32, 47, 48, 63], [63, 16, 15, 32, 31, 48, 47, 0]])\n",
    "edges64 = torch.cat((edges3, edges3+16, edges3+32, edges3+32+16, edgesextra), dim=1)\n",
    "graph64 = Data(edge_index=edges64, x= torch.zeros(64, 1))\n",
    "graph64"
   ]
  },
  {
   "cell_type": "code",
   "execution_count": 58,
   "metadata": {
    "tags": []
   },
   "outputs": [],
   "source": [
    "graph2 = KarateClub().data\n",
    "graph2.num_nodes = 34"
   ]
  },
  {
   "cell_type": "code",
   "execution_count": 70,
   "metadata": {
    "tags": []
   },
   "outputs": [
    {
     "output_type": "stream",
     "name": "stdout",
     "text": "break\nbreak\nbreak\nbreak\nbreak\nbreak\nbreak\nbreak\nbreak\n"
    },
    {
     "output_type": "execute_result",
     "data": {
      "text/plain": "[[[{0, 1, 2, 3}, 6, 3],\n  [{4, 5, 6, 7}, 6, 2],\n  [{8, 9, 10, 11}, 6, 2],\n  [{12, 13, 14, 15}, 6, 3],\n  [{16, 17, 18, 19}, 6, 3],\n  [{20, 21, 22, 23}, 6, 2],\n  [{24, 25, 26, 27}, 6, 2],\n  [{28, 29, 30, 31}, 6, 3],\n  [{32, 33, 34, 35}, 6, 3],\n  [{36, 37, 38, 39}, 6, 2],\n  [{40, 41, 42, 43}, 6, 2],\n  [{44, 45, 46, 47}, 6, 3],\n  [{48, 49, 50, 51}, 6, 3],\n  [{52, 53, 54, 55}, 6, 2],\n  [{56, 57, 58, 59}, 6, 2],\n  [{60, 61, 62, 63}, 6, 3]],\n [[{0}, 6, 3],\n  [{1}, 6, 2],\n  [{2}, 6, 2],\n  [{3}, 6, 3],\n  [{4}, 6, 3],\n  [{5}, 6, 2],\n  [{6}, 6, 2],\n  [{7}, 6, 3],\n  [{8}, 6, 3],\n  [{9}, 6, 2],\n  [{10}, 6, 2],\n  [{11}, 6, 3],\n  [{12}, 6, 3],\n  [{13}, 6, 2],\n  [{14}, 6, 2],\n  [{15}, 6, 3]],\n [[{0}, 6, 3],\n  [{1}, 6, 2],\n  [{2}, 6, 2],\n  [{3}, 6, 3],\n  [{4}, 6, 3],\n  [{5}, 6, 2],\n  [{6}, 6, 2],\n  [{7}, 6, 3],\n  [{8}, 6, 3],\n  [{9}, 6, 2],\n  [{10}, 6, 2],\n  [{11}, 6, 3],\n  [{12}, 6, 3],\n  [{13}, 6, 2],\n  [{14}, 6, 2],\n  [{15}, 6, 3]],\n [[{0, 1}, 7, 9],\n  [{2, 3}, 7, 9],\n  [{4, 5}, 7, 9],\n  [{6, 7}, 7, 9],\n  [{8, 9}, 7, 9],\n  [{10, 11}, 7, 9],\n  [{12, 13}, 7, 9],\n  [{14, 15}, 7, 9]],\n [[{0}, 7, 9],\n  [{1}, 7, 9],\n  [{2}, 7, 9],\n  [{3}, 7, 9],\n  [{4}, 7, 9],\n  [{5}, 7, 9],\n  [{6}, 7, 9],\n  [{7}, 7, 9]],\n [[{0, 1}, 9, 21], [{2, 3}, 9, 21], [{4, 5}, 9, 21], [{6, 7}, 9, 21]],\n [[{0}, 9, 21], [{1}, 9, 21], [{2}, 9, 21], [{3}, 9, 21]],\n [[{0}, 9, 21], [{1}, 9, 21], [{2}, 9, 21], [{3}, 9, 21]],\n [[{0, 1, 2}, 12, 104]]]"
     },
     "metadata": {},
     "execution_count": 70
    }
   ],
   "source": [
    "def louvain_communities(graph):\n",
    "    hierarchy = []\n",
    "    graph = copy.deepcopy(graph)\n",
    "    hpg = create_weighted_hashed_pointer_graph(graph)\n",
    "    deg = count_out_degree(graph, aslist=True) \n",
    "    communities = [[{i}, 0, d] for i, d in enumerate(deg)]\n",
    "    node2comm = [i for i in range(graph.num_nodes)]\n",
    "    div = len(graph.edge_index[0])\n",
    "\n",
    "    def get_degin(node, comm):\n",
    "        degin = 0\n",
    "        for candidate in hpg[node][0]:\n",
    "            if candidate in comm[0]:\n",
    "                degin += hpg[node][0][candidate]\n",
    "        return degin\n",
    "\n",
    "    def collapse_communities(communities):\n",
    "        hpg2 = []\n",
    "        for i, comm in enumerate(communities):\n",
    "            tmp = dict()\n",
    "            leni = 0\n",
    "            for node in comm[0]:\n",
    "                # print(node, \"node\")\n",
    "                try: hpg[node][0]\n",
    "                except: print(hpg, \"coommmmmmssm\", communities)\n",
    "                for node2 in hpg[node][0]:\n",
    "                    if node2comm[node2] in tmp:\n",
    "                        tmp[node2comm[node2]] += hpg[node][0][node2]\n",
    "                    else:  \n",
    "                        tmp[node2comm[node2]] = hpg[node][0][node2]\n",
    "                    # leni += hpg[node][0][node2]\n",
    "            # comm[]\n",
    "            tmp[i] //= 2\n",
    "            # print(i, comm, leni)\n",
    "            hpg2.append([tmp, 0])\n",
    "            deg[i] = comm[1]+comm[2]\n",
    "        for i, comm in enumerate(communities):\n",
    "            comm[0] = {i}\n",
    "\n",
    "        graph.num_nodes = len(communities)\n",
    "        return hpg2\n",
    "                \n",
    "\n",
    "    while len(communities)>1:\n",
    "        for ups in range(20):\n",
    "            made_switch = False\n",
    "            for node in range(graph.num_nodes):\n",
    "                print(node, end='\\r')\n",
    "                max_deltaQ, maxi = float('-inf'), -1\n",
    "                maxdegin = None\n",
    "                selfcomm, iselfcomm, selfdegin, selfdelta = None, None, None, None\n",
    "                for i, comm in enumerate(communities):\n",
    "                    degin = get_degin(node, comm)\n",
    "                    frst = (comm[1]+degin)/div - ((comm[2]+deg[node])/div)**2\n",
    "                    scnd = comm[1]/div - (comm[2]/div)**2 - (degin/div)**2\n",
    "                    deltaQ = frst - scnd\n",
    "                    if node in comm[0]:\n",
    "                        selfcomm, iselfcomm, selfdegin, selfdelta = comm, i, degin, deltaQ\n",
    "                        continue\n",
    "                    if deltaQ > max_deltaQ:\n",
    "                        max_deltaQ, maxcomm, maxdegin, maxi = deltaQ, comm, degin, i\n",
    "                if max_deltaQ-selfdelta > 1e-10:\n",
    "                    made_switch = True\n",
    "                    selfcomm[0].remove(node)\n",
    "                    selfcomm[1] -= selfdegin\n",
    "                    selfcomm[2] -= deg[node] - 2*selfdegin\n",
    "                    maxcomm[0].add(node)\n",
    "                    maxcomm[1] += maxdegin\n",
    "                    maxcomm[2] += deg[node] - 2*maxdegin\n",
    "                if len(selfcomm[0]) == 0:\n",
    "                    del communities[iselfcomm] #expendive ???\n",
    "            for i, comm in enumerate(communities):\n",
    "                for node in comm[0]:\n",
    "                    node2comm[node] = i\n",
    "            if not made_switch:\n",
    "                hierarchy.append(copy.deepcopy(communities))\n",
    "                print(\"break\")\n",
    "                break\n",
    "        hpg = collapse_communities(communities)\n",
    "    return hierarchy\n",
    "\n",
    "hier = louvain_communities(graph64) \n",
    "hier"
   ]
  },
  {
   "cell_type": "code",
   "execution_count": 43,
   "metadata": {
    "tags": []
   },
   "outputs": [
    {
     "output_type": "execute_result",
     "data": {
      "text/plain": "[[{1: 1, 2: 1, 3: 1, 14: 1}, {1: 1, 2: 1, 3: 1, 14: 1}],\n [{2: 1, 3: 1, 0: 1}, {0: 1, 2: 1, 3: 1}],\n [{3: 1, 0: 1, 1: 1, 4: 1}, {0: 1, 1: 1, 3: 1, 4: 1}],\n [{0: 1, 1: 1, 2: 1}, {0: 1, 1: 1, 2: 1}],\n [{5: 1, 6: 1, 7: 1, 2: 1}, {5: 1, 6: 1, 7: 1, 2: 1}],\n [{6: 1, 7: 1, 4: 1}, {4: 1, 6: 1, 7: 1}],\n [{7: 1, 4: 1, 5: 1, 8: 1}, {4: 1, 5: 1, 7: 1, 8: 1}],\n [{4: 1, 5: 1, 6: 1}, {4: 1, 5: 1, 6: 1}],\n [{9: 1, 10: 1, 11: 1, 6: 1}, {9: 1, 10: 1, 11: 1, 6: 1}],\n [{10: 1, 11: 1, 8: 1}, {8: 1, 10: 1, 11: 1}],\n [{11: 1, 8: 1, 9: 1, 12: 1}, {8: 1, 9: 1, 11: 1, 12: 1}],\n [{8: 1, 9: 1, 10: 1}, {8: 1, 9: 1, 10: 1}],\n [{13: 1, 14: 1, 15: 1, 10: 1}, {13: 1, 14: 1, 15: 1, 10: 1}],\n [{14: 1, 15: 1, 12: 1}, {12: 1, 14: 1, 15: 1}],\n [{15: 1, 12: 1, 13: 1, 0: 1}, {12: 1, 13: 1, 15: 1, 0: 1}],\n [{12: 1, 13: 1, 14: 1}, {12: 1, 13: 1, 14: 1}]]"
     },
     "metadata": {},
     "execution_count": 43
    }
   ],
   "source": [
    "def create_hashed_pointer_graph(graph):\n",
    "    hashed_pointer_graph = create_pointer_graph(graph)\n",
    "    hpg = hashed_pointer_graph\n",
    "    for i in range(len(hpg)):\n",
    "        l1, l2 = hpg[i]\n",
    "        h1 = { i for i in l1}\n",
    "        h2 = { i for i in l2}\n",
    "        hpg[i] = [h1, h2]\n",
    "    return hpg\n",
    "def create_weighted_hashed_pointer_graph(graph):\n",
    "    hashed_pointer_graph = create_pointer_graph(graph)\n",
    "    hpg = hashed_pointer_graph\n",
    "    for i in range(len(hpg)):\n",
    "        l1, l2 = hpg[i]\n",
    "        h1 = { i:1 for i in l1}\n",
    "        h2 = { i:1 for i in l2}\n",
    "        hpg[i] = [h1, h2]\n",
    "    return hpg\n",
    "\n",
    "# create_hashed_pointer_graph(graph2)\n",
    "create_weighted_hashed_pointer_graph(graph)"
   ]
  }
 ]
}