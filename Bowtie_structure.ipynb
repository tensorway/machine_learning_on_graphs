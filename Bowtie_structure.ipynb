{
 "metadata": {
  "language_info": {
   "codemirror_mode": {
    "name": "ipython",
    "version": 3
   },
   "file_extension": ".py",
   "mimetype": "text/x-python",
   "name": "python",
   "nbconvert_exporter": "python",
   "pygments_lexer": "ipython3",
   "version": "3.8.5-final"
  },
  "orig_nbformat": 2,
  "kernelspec": {
   "name": "python38564bitd95df06ad6614d8ea31ce2c635a29972",
   "display_name": "Python 3.8.5 64-bit"
  }
 },
 "nbformat": 4,
 "nbformat_minor": 2,
 "cells": [
  {
   "cell_type": "code",
   "execution_count": 7,
   "metadata": {},
   "outputs": [],
   "source": [
    "from torch_geometric.data import Data\n",
    "from torch_geometric.datasets import SNAPDataset\n",
    "import numpy as np\n",
    "import torch_geometric as tg\n",
    "import torch\n",
    "from utils import create_pointer_graph, bfs, get_diamenter"
   ]
  },
  {
   "cell_type": "code",
   "execution_count": 8,
   "metadata": {},
   "outputs": [],
   "source": [
    "dataset = SNAPDataset('datasets/', 'soc-epinions1')\n",
    "data = dataset.data\n",
    "data.num_nodes = data.num_nodes[0]\n",
    "graph = data\n",
    "graph.x = torch.zeros(graph.num_nodes, 1)"
   ]
  },
  {
   "cell_type": "code",
   "execution_count": 9,
   "metadata": {},
   "outputs": [],
   "source": [
    "pg = create_pointer_graph(graph)"
   ]
  },
  {
   "cell_type": "code",
   "execution_count": 57,
   "metadata": {},
   "outputs": [],
   "source": [
    "vals1 = bfs(graph, 0, pg, 0)\n",
    "vals2 = bfs(graph, 0, pg, 1)"
   ]
  },
  {
   "cell_type": "code",
   "execution_count": 77,
   "metadata": {},
   "outputs": [
    {
     "output_type": "stream",
     "name": "stdout",
     "text": [
      "0 1228 tensor(47676.)\n",
      "1 9624 tensor(47676.)\n",
      "2 1116 tensor(47676.)\n",
      "3 17120 tensor(47676.)\n",
      "4 54317 tensor(1.)\n",
      "5 8143 tensor(47678.)\n",
      "6 1283 tensor(47676.)\n",
      "7 69239 tensor(1.)\n",
      "8 62920 tensor(47676.)\n",
      "9 51887 tensor(1.)\n",
      "10 14655 tensor(47677.)\n",
      "11 46111 tensor(47676.)\n",
      "12 6658 tensor(47676.)\n",
      "13 23360 tensor(47676.)\n",
      "14 56723 tensor(47676.)\n",
      "15 33375 tensor(47676.)\n",
      "16 36320 tensor(1.)\n",
      "17 55918 tensor(47676.)\n",
      "18 51273 tensor(1.)\n",
      "19 53361 tensor(47676.)\n",
      "20 63917 tensor(47676.)\n",
      "21 50399 tensor(47677.)\n",
      "22 50576 tensor(47678.)\n",
      "23 30684 tensor(1.)\n",
      "24 9279 tensor(47677.)\n",
      "25 19384 tensor(47676.)\n",
      "26 49445 tensor(47677.)\n",
      "27 13208 tensor(47676.)\n",
      "28 913 tensor(47676.)\n",
      "29 61695 tensor(47676.)\n",
      "30 11314 tensor(1.)\n",
      "31 54094 tensor(1.)\n",
      "32 8595 tensor(47676.)\n",
      "33 27332 tensor(47676.)\n",
      "34 36010 tensor(47677.)\n",
      "35 37546 tensor(47677.)\n",
      "36 73709 tensor(1.)\n",
      "37 27300 tensor(47676.)\n",
      "38 21913 tensor(47677.)\n",
      "39 57571 tensor(1.)\n",
      "40 13305 tensor(47676.)\n",
      "41 10405 tensor(47676.)\n",
      "42 33559 tensor(47678.)\n",
      "43 6946 tensor(47676.)\n",
      "44 30442 tensor(47676.)\n",
      "45 66029 tensor(47677.)\n",
      "46 31029 tensor(12.)\n",
      "47 46155 tensor(1.)\n",
      "48 43018 tensor(1.)\n",
      "49 73974 tensor(1.)\n",
      "50 28180 tensor(1.)\n",
      "51 53867 tensor(47677.)\n",
      "52 40491 tensor(47677.)\n",
      "53 5369 tensor(47677.)\n",
      "54 1323 tensor(47676.)\n",
      "55 26274 tensor(1.)\n",
      "56 20399 tensor(47676.)\n",
      "57 68181 tensor(3.)\n",
      "58 70000 tensor(1.)\n",
      "59 63494 tensor(1.)\n",
      "60 17955 tensor(47676.)\n",
      "61 25120 tensor(47677.)\n",
      "62 58280 tensor(47677.)\n",
      "63 55505 tensor(2.)\n",
      "64 35603 tensor(1.)\n",
      "65 3196 tensor(47676.)\n",
      "66 75343 tensor(2.)\n",
      "67 6310 tensor(47677.)\n",
      "68 6595 tensor(47676.)\n",
      "69 7444 tensor(47676.)\n",
      "70 65509 tensor(1.)\n",
      "71 28149 tensor(47677.)\n",
      "72 64357 tensor(47677.)\n",
      "73 69559 tensor(47678.)\n",
      "74 58164 tensor(1.)\n",
      "75 62290 tensor(1.)\n",
      "76 74172 tensor(1.)\n",
      "77 61122 tensor(47677.)\n",
      "78 12349 tensor(47676.)\n",
      "79 55422 tensor(47677.)\n",
      "80 44021 tensor(1.)\n",
      "81 46348 tensor(47676.)\n",
      "82 44865 tensor(1.)\n",
      "83 72392 tensor(47677.)\n",
      "84 3640 tensor(47676.)\n",
      "85 39058 tensor(47677.)\n",
      "86 35573 tensor(1.)\n",
      "87 21284 tensor(47676.)\n",
      "88 41257 tensor(47678.)\n",
      "89 11271 tensor(47676.)\n",
      "90 66165 tensor(1.)\n",
      "91 5872 tensor(47676.)\n",
      "92 57714 tensor(1.)\n",
      "93 28580 tensor(47676.)\n",
      "94 35284 tensor(47677.)\n",
      "95 5507 tensor(47676.)\n",
      "96 72393 tensor(47678.)\n",
      "97 19738 tensor(47676.)\n",
      "98 53624 tensor(47676.)\n",
      "99 65117 tensor(47677.)\n"
     ]
    }
   ],
   "source": [
    "random_nodes = []\n",
    "import random\n",
    "for i in range(100):\n",
    "    node = random.randint(0, graph.num_nodes)\n",
    "    vals0 = bfs(graph, node, pg, 0)\n",
    "    nreachable = (vals0>=0).float().sum()\n",
    "    random_nodes.append(nreachable)\n",
    "    print(i, node, nreachable)\n"
   ]
  },
  {
   "cell_type": "code",
   "execution_count": 81,
   "metadata": {},
   "outputs": [
    {
     "output_type": "execute_result",
     "data": {
      "text/plain": [
       "[1.0, 1.0, 1.0, 1.0, 1.0, 1.0, 1.0, 1.0, 1.0, 1.0]"
      ]
     },
     "metadata": {},
     "execution_count": 81
    },
    {
     "output_type": "display_data",
     "data": {
      "text/plain": "<Figure size 432x288 with 1 Axes>",
      "image/svg+xml": "<?xml version=\"1.0\" encoding=\"utf-8\" standalone=\"no\"?>\n<!DOCTYPE svg PUBLIC \"-//W3C//DTD SVG 1.1//EN\"\n  \"http://www.w3.org/Graphics/SVG/1.1/DTD/svg11.dtd\">\n<!-- Created with matplotlib (https://matplotlib.org/) -->\n<svg height=\"252.060909pt\" version=\"1.1\" viewBox=\"0 0 388.0125 252.060909\" width=\"388.0125pt\" xmlns=\"http://www.w3.org/2000/svg\" xmlns:xlink=\"http://www.w3.org/1999/xlink\">\n <metadata>\n  <rdf:RDF xmlns:cc=\"http://creativecommons.org/ns#\" xmlns:dc=\"http://purl.org/dc/elements/1.1/\" xmlns:rdf=\"http://www.w3.org/1999/02/22-rdf-syntax-ns#\">\n   <cc:Work>\n    <dc:type rdf:resource=\"http://purl.org/dc/dcmitype/StillImage\"/>\n    <dc:date>2020-11-18T00:28:56.605648</dc:date>\n    <dc:format>image/svg+xml</dc:format>\n    <dc:creator>\n     <cc:Agent>\n      <dc:title>Matplotlib v3.3.2, https://matplotlib.org/</dc:title>\n     </cc:Agent>\n    </dc:creator>\n   </cc:Work>\n  </rdf:RDF>\n </metadata>\n <defs>\n  <style type=\"text/css\">*{stroke-linecap:butt;stroke-linejoin:round;}</style>\n </defs>\n <g id=\"figure_1\">\n  <g id=\"patch_1\">\n   <path d=\"M 0 252.060909 \nL 388.0125 252.060909 \nL 388.0125 0 \nL 0 0 \nz\n\" style=\"fill:none;\"/>\n  </g>\n  <g id=\"axes_1\">\n   <g id=\"patch_2\">\n    <path d=\"M 46.0125 228.182784 \nL 380.8125 228.182784 \nL 380.8125 10.742784 \nL 46.0125 10.742784 \nz\n\" style=\"fill:#ffffff;\"/>\n   </g>\n   <g id=\"matplotlib.axis_1\">\n    <g id=\"xtick_1\">\n     <g id=\"line2d_1\">\n      <defs>\n       <path d=\"M 0 0 \nL 0 3.5 \n\" id=\"m75ba5f4ed3\" style=\"stroke:#000000;stroke-width:0.8;\"/>\n      </defs>\n      <g>\n       <use style=\"stroke:#000000;stroke-width:0.8;\" x=\"61.230682\" xlink:href=\"#m75ba5f4ed3\" y=\"228.182784\"/>\n      </g>\n     </g>\n     <g id=\"text_1\">\n      <!-- 0 -->\n      <g transform=\"translate(58.049432 242.781221)scale(0.1 -0.1)\">\n       <defs>\n        <path d=\"M 31.78125 66.40625 \nQ 24.171875 66.40625 20.328125 58.90625 \nQ 16.5 51.421875 16.5 36.375 \nQ 16.5 21.390625 20.328125 13.890625 \nQ 24.171875 6.390625 31.78125 6.390625 \nQ 39.453125 6.390625 43.28125 13.890625 \nQ 47.125 21.390625 47.125 36.375 \nQ 47.125 51.421875 43.28125 58.90625 \nQ 39.453125 66.40625 31.78125 66.40625 \nz\nM 31.78125 74.21875 \nQ 44.046875 74.21875 50.515625 64.515625 \nQ 56.984375 54.828125 56.984375 36.375 \nQ 56.984375 17.96875 50.515625 8.265625 \nQ 44.046875 -1.421875 31.78125 -1.421875 \nQ 19.53125 -1.421875 13.0625 8.265625 \nQ 6.59375 17.96875 6.59375 36.375 \nQ 6.59375 54.828125 13.0625 64.515625 \nQ 19.53125 74.21875 31.78125 74.21875 \nz\n\" id=\"DejaVuSans-48\"/>\n       </defs>\n       <use xlink:href=\"#DejaVuSans-48\"/>\n      </g>\n     </g>\n    </g>\n    <g id=\"xtick_2\">\n     <g id=\"line2d_2\">\n      <g>\n       <use style=\"stroke:#000000;stroke-width:0.8;\" x=\"122.718285\" xlink:href=\"#m75ba5f4ed3\" y=\"228.182784\"/>\n      </g>\n     </g>\n     <g id=\"text_2\">\n      <!-- 20 -->\n      <g transform=\"translate(116.355785 242.781221)scale(0.1 -0.1)\">\n       <defs>\n        <path d=\"M 19.1875 8.296875 \nL 53.609375 8.296875 \nL 53.609375 0 \nL 7.328125 0 \nL 7.328125 8.296875 \nQ 12.9375 14.109375 22.625 23.890625 \nQ 32.328125 33.6875 34.8125 36.53125 \nQ 39.546875 41.84375 41.421875 45.53125 \nQ 43.3125 49.21875 43.3125 52.78125 \nQ 43.3125 58.59375 39.234375 62.25 \nQ 35.15625 65.921875 28.609375 65.921875 \nQ 23.96875 65.921875 18.8125 64.3125 \nQ 13.671875 62.703125 7.8125 59.421875 \nL 7.8125 69.390625 \nQ 13.765625 71.78125 18.9375 73 \nQ 24.125 74.21875 28.421875 74.21875 \nQ 39.75 74.21875 46.484375 68.546875 \nQ 53.21875 62.890625 53.21875 53.421875 \nQ 53.21875 48.921875 51.53125 44.890625 \nQ 49.859375 40.875 45.40625 35.40625 \nQ 44.1875 33.984375 37.640625 27.21875 \nQ 31.109375 20.453125 19.1875 8.296875 \nz\n\" id=\"DejaVuSans-50\"/>\n       </defs>\n       <use xlink:href=\"#DejaVuSans-50\"/>\n       <use x=\"63.623047\" xlink:href=\"#DejaVuSans-48\"/>\n      </g>\n     </g>\n    </g>\n    <g id=\"xtick_3\">\n     <g id=\"line2d_3\">\n      <g>\n       <use style=\"stroke:#000000;stroke-width:0.8;\" x=\"184.205888\" xlink:href=\"#m75ba5f4ed3\" y=\"228.182784\"/>\n      </g>\n     </g>\n     <g id=\"text_3\">\n      <!-- 40 -->\n      <g transform=\"translate(177.843388 242.781221)scale(0.1 -0.1)\">\n       <defs>\n        <path d=\"M 37.796875 64.3125 \nL 12.890625 25.390625 \nL 37.796875 25.390625 \nz\nM 35.203125 72.90625 \nL 47.609375 72.90625 \nL 47.609375 25.390625 \nL 58.015625 25.390625 \nL 58.015625 17.1875 \nL 47.609375 17.1875 \nL 47.609375 0 \nL 37.796875 0 \nL 37.796875 17.1875 \nL 4.890625 17.1875 \nL 4.890625 26.703125 \nz\n\" id=\"DejaVuSans-52\"/>\n       </defs>\n       <use xlink:href=\"#DejaVuSans-52\"/>\n       <use x=\"63.623047\" xlink:href=\"#DejaVuSans-48\"/>\n      </g>\n     </g>\n    </g>\n    <g id=\"xtick_4\">\n     <g id=\"line2d_4\">\n      <g>\n       <use style=\"stroke:#000000;stroke-width:0.8;\" x=\"245.693492\" xlink:href=\"#m75ba5f4ed3\" y=\"228.182784\"/>\n      </g>\n     </g>\n     <g id=\"text_4\">\n      <!-- 60 -->\n      <g transform=\"translate(239.330992 242.781221)scale(0.1 -0.1)\">\n       <defs>\n        <path d=\"M 33.015625 40.375 \nQ 26.375 40.375 22.484375 35.828125 \nQ 18.609375 31.296875 18.609375 23.390625 \nQ 18.609375 15.53125 22.484375 10.953125 \nQ 26.375 6.390625 33.015625 6.390625 \nQ 39.65625 6.390625 43.53125 10.953125 \nQ 47.40625 15.53125 47.40625 23.390625 \nQ 47.40625 31.296875 43.53125 35.828125 \nQ 39.65625 40.375 33.015625 40.375 \nz\nM 52.59375 71.296875 \nL 52.59375 62.3125 \nQ 48.875 64.0625 45.09375 64.984375 \nQ 41.3125 65.921875 37.59375 65.921875 \nQ 27.828125 65.921875 22.671875 59.328125 \nQ 17.53125 52.734375 16.796875 39.40625 \nQ 19.671875 43.65625 24.015625 45.921875 \nQ 28.375 48.1875 33.59375 48.1875 \nQ 44.578125 48.1875 50.953125 41.515625 \nQ 57.328125 34.859375 57.328125 23.390625 \nQ 57.328125 12.15625 50.6875 5.359375 \nQ 44.046875 -1.421875 33.015625 -1.421875 \nQ 20.359375 -1.421875 13.671875 8.265625 \nQ 6.984375 17.96875 6.984375 36.375 \nQ 6.984375 53.65625 15.1875 63.9375 \nQ 23.390625 74.21875 37.203125 74.21875 \nQ 40.921875 74.21875 44.703125 73.484375 \nQ 48.484375 72.75 52.59375 71.296875 \nz\n\" id=\"DejaVuSans-54\"/>\n       </defs>\n       <use xlink:href=\"#DejaVuSans-54\"/>\n       <use x=\"63.623047\" xlink:href=\"#DejaVuSans-48\"/>\n      </g>\n     </g>\n    </g>\n    <g id=\"xtick_5\">\n     <g id=\"line2d_5\">\n      <g>\n       <use style=\"stroke:#000000;stroke-width:0.8;\" x=\"307.181095\" xlink:href=\"#m75ba5f4ed3\" y=\"228.182784\"/>\n      </g>\n     </g>\n     <g id=\"text_5\">\n      <!-- 80 -->\n      <g transform=\"translate(300.818595 242.781221)scale(0.1 -0.1)\">\n       <defs>\n        <path d=\"M 31.78125 34.625 \nQ 24.75 34.625 20.71875 30.859375 \nQ 16.703125 27.09375 16.703125 20.515625 \nQ 16.703125 13.921875 20.71875 10.15625 \nQ 24.75 6.390625 31.78125 6.390625 \nQ 38.8125 6.390625 42.859375 10.171875 \nQ 46.921875 13.96875 46.921875 20.515625 \nQ 46.921875 27.09375 42.890625 30.859375 \nQ 38.875 34.625 31.78125 34.625 \nz\nM 21.921875 38.8125 \nQ 15.578125 40.375 12.03125 44.71875 \nQ 8.5 49.078125 8.5 55.328125 \nQ 8.5 64.0625 14.71875 69.140625 \nQ 20.953125 74.21875 31.78125 74.21875 \nQ 42.671875 74.21875 48.875 69.140625 \nQ 55.078125 64.0625 55.078125 55.328125 \nQ 55.078125 49.078125 51.53125 44.71875 \nQ 48 40.375 41.703125 38.8125 \nQ 48.828125 37.15625 52.796875 32.3125 \nQ 56.78125 27.484375 56.78125 20.515625 \nQ 56.78125 9.90625 50.3125 4.234375 \nQ 43.84375 -1.421875 31.78125 -1.421875 \nQ 19.734375 -1.421875 13.25 4.234375 \nQ 6.78125 9.90625 6.78125 20.515625 \nQ 6.78125 27.484375 10.78125 32.3125 \nQ 14.796875 37.15625 21.921875 38.8125 \nz\nM 18.3125 54.390625 \nQ 18.3125 48.734375 21.84375 45.5625 \nQ 25.390625 42.390625 31.78125 42.390625 \nQ 38.140625 42.390625 41.71875 45.5625 \nQ 45.3125 48.734375 45.3125 54.390625 \nQ 45.3125 60.0625 41.71875 63.234375 \nQ 38.140625 66.40625 31.78125 66.40625 \nQ 25.390625 66.40625 21.84375 63.234375 \nQ 18.3125 60.0625 18.3125 54.390625 \nz\n\" id=\"DejaVuSans-56\"/>\n       </defs>\n       <use xlink:href=\"#DejaVuSans-56\"/>\n       <use x=\"63.623047\" xlink:href=\"#DejaVuSans-48\"/>\n      </g>\n     </g>\n    </g>\n    <g id=\"xtick_6\">\n     <g id=\"line2d_6\">\n      <g>\n       <use style=\"stroke:#000000;stroke-width:0.8;\" x=\"368.668698\" xlink:href=\"#m75ba5f4ed3\" y=\"228.182784\"/>\n      </g>\n     </g>\n     <g id=\"text_6\">\n      <!-- 100 -->\n      <g transform=\"translate(359.124948 242.781221)scale(0.1 -0.1)\">\n       <defs>\n        <path d=\"M 12.40625 8.296875 \nL 28.515625 8.296875 \nL 28.515625 63.921875 \nL 10.984375 60.40625 \nL 10.984375 69.390625 \nL 28.421875 72.90625 \nL 38.28125 72.90625 \nL 38.28125 8.296875 \nL 54.390625 8.296875 \nL 54.390625 0 \nL 12.40625 0 \nz\n\" id=\"DejaVuSans-49\"/>\n       </defs>\n       <use xlink:href=\"#DejaVuSans-49\"/>\n       <use x=\"63.623047\" xlink:href=\"#DejaVuSans-48\"/>\n       <use x=\"127.246094\" xlink:href=\"#DejaVuSans-48\"/>\n      </g>\n     </g>\n    </g>\n   </g>\n   <g id=\"matplotlib.axis_2\">\n    <g id=\"ytick_1\">\n     <g id=\"line2d_7\">\n      <defs>\n       <path d=\"M 0 0 \nL -3.5 0 \n\" id=\"mcd943c1b5b\" style=\"stroke:#000000;stroke-width:0.8;\"/>\n      </defs>\n      <g>\n       <use style=\"stroke:#000000;stroke-width:0.8;\" x=\"46.0125\" xlink:href=\"#mcd943c1b5b\" y=\"218.303293\"/>\n      </g>\n     </g>\n     <g id=\"text_7\">\n      <!-- 0 -->\n      <g transform=\"translate(32.65 222.102512)scale(0.1 -0.1)\">\n       <use xlink:href=\"#DejaVuSans-48\"/>\n      </g>\n     </g>\n    </g>\n    <g id=\"ytick_2\">\n     <g id=\"line2d_8\">\n      <g>\n       <use style=\"stroke:#000000;stroke-width:0.8;\" x=\"46.0125\" xlink:href=\"#mcd943c1b5b\" y=\"176.842478\"/>\n      </g>\n     </g>\n     <g id=\"text_8\">\n      <!-- 10000 -->\n      <g transform=\"translate(7.2 180.641697)scale(0.1 -0.1)\">\n       <use xlink:href=\"#DejaVuSans-49\"/>\n       <use x=\"63.623047\" xlink:href=\"#DejaVuSans-48\"/>\n       <use x=\"127.246094\" xlink:href=\"#DejaVuSans-48\"/>\n       <use x=\"190.869141\" xlink:href=\"#DejaVuSans-48\"/>\n       <use x=\"254.492188\" xlink:href=\"#DejaVuSans-48\"/>\n      </g>\n     </g>\n    </g>\n    <g id=\"ytick_3\">\n     <g id=\"line2d_9\">\n      <g>\n       <use style=\"stroke:#000000;stroke-width:0.8;\" x=\"46.0125\" xlink:href=\"#mcd943c1b5b\" y=\"135.381663\"/>\n      </g>\n     </g>\n     <g id=\"text_9\">\n      <!-- 20000 -->\n      <g transform=\"translate(7.2 139.180882)scale(0.1 -0.1)\">\n       <use xlink:href=\"#DejaVuSans-50\"/>\n       <use x=\"63.623047\" xlink:href=\"#DejaVuSans-48\"/>\n       <use x=\"127.246094\" xlink:href=\"#DejaVuSans-48\"/>\n       <use x=\"190.869141\" xlink:href=\"#DejaVuSans-48\"/>\n       <use x=\"254.492188\" xlink:href=\"#DejaVuSans-48\"/>\n      </g>\n     </g>\n    </g>\n    <g id=\"ytick_4\">\n     <g id=\"line2d_10\">\n      <g>\n       <use style=\"stroke:#000000;stroke-width:0.8;\" x=\"46.0125\" xlink:href=\"#mcd943c1b5b\" y=\"93.920849\"/>\n      </g>\n     </g>\n     <g id=\"text_10\">\n      <!-- 30000 -->\n      <g transform=\"translate(7.2 97.720067)scale(0.1 -0.1)\">\n       <defs>\n        <path d=\"M 40.578125 39.3125 \nQ 47.65625 37.796875 51.625 33 \nQ 55.609375 28.21875 55.609375 21.1875 \nQ 55.609375 10.40625 48.1875 4.484375 \nQ 40.765625 -1.421875 27.09375 -1.421875 \nQ 22.515625 -1.421875 17.65625 -0.515625 \nQ 12.796875 0.390625 7.625 2.203125 \nL 7.625 11.71875 \nQ 11.71875 9.328125 16.59375 8.109375 \nQ 21.484375 6.890625 26.8125 6.890625 \nQ 36.078125 6.890625 40.9375 10.546875 \nQ 45.796875 14.203125 45.796875 21.1875 \nQ 45.796875 27.640625 41.28125 31.265625 \nQ 36.765625 34.90625 28.71875 34.90625 \nL 20.21875 34.90625 \nL 20.21875 43.015625 \nL 29.109375 43.015625 \nQ 36.375 43.015625 40.234375 45.921875 \nQ 44.09375 48.828125 44.09375 54.296875 \nQ 44.09375 59.90625 40.109375 62.90625 \nQ 36.140625 65.921875 28.71875 65.921875 \nQ 24.65625 65.921875 20.015625 65.03125 \nQ 15.375 64.15625 9.8125 62.3125 \nL 9.8125 71.09375 \nQ 15.4375 72.65625 20.34375 73.4375 \nQ 25.25 74.21875 29.59375 74.21875 \nQ 40.828125 74.21875 47.359375 69.109375 \nQ 53.90625 64.015625 53.90625 55.328125 \nQ 53.90625 49.265625 50.4375 45.09375 \nQ 46.96875 40.921875 40.578125 39.3125 \nz\n\" id=\"DejaVuSans-51\"/>\n       </defs>\n       <use xlink:href=\"#DejaVuSans-51\"/>\n       <use x=\"63.623047\" xlink:href=\"#DejaVuSans-48\"/>\n       <use x=\"127.246094\" xlink:href=\"#DejaVuSans-48\"/>\n       <use x=\"190.869141\" xlink:href=\"#DejaVuSans-48\"/>\n       <use x=\"254.492188\" xlink:href=\"#DejaVuSans-48\"/>\n      </g>\n     </g>\n    </g>\n    <g id=\"ytick_5\">\n     <g id=\"line2d_11\">\n      <g>\n       <use style=\"stroke:#000000;stroke-width:0.8;\" x=\"46.0125\" xlink:href=\"#mcd943c1b5b\" y=\"52.460034\"/>\n      </g>\n     </g>\n     <g id=\"text_11\">\n      <!-- 40000 -->\n      <g transform=\"translate(7.2 56.259252)scale(0.1 -0.1)\">\n       <use xlink:href=\"#DejaVuSans-52\"/>\n       <use x=\"63.623047\" xlink:href=\"#DejaVuSans-48\"/>\n       <use x=\"127.246094\" xlink:href=\"#DejaVuSans-48\"/>\n       <use x=\"190.869141\" xlink:href=\"#DejaVuSans-48\"/>\n       <use x=\"254.492188\" xlink:href=\"#DejaVuSans-48\"/>\n      </g>\n     </g>\n    </g>\n    <g id=\"ytick_6\">\n     <g id=\"line2d_12\">\n      <g>\n       <use style=\"stroke:#000000;stroke-width:0.8;\" x=\"46.0125\" xlink:href=\"#mcd943c1b5b\" y=\"10.999219\"/>\n      </g>\n     </g>\n     <g id=\"text_12\">\n      <!-- 50000 -->\n      <g transform=\"translate(7.2 14.798438)scale(0.1 -0.1)\">\n       <defs>\n        <path d=\"M 10.796875 72.90625 \nL 49.515625 72.90625 \nL 49.515625 64.59375 \nL 19.828125 64.59375 \nL 19.828125 46.734375 \nQ 21.96875 47.46875 24.109375 47.828125 \nQ 26.265625 48.1875 28.421875 48.1875 \nQ 40.625 48.1875 47.75 41.5 \nQ 54.890625 34.8125 54.890625 23.390625 \nQ 54.890625 11.625 47.5625 5.09375 \nQ 40.234375 -1.421875 26.90625 -1.421875 \nQ 22.3125 -1.421875 17.546875 -0.640625 \nQ 12.796875 0.140625 7.71875 1.703125 \nL 7.71875 11.625 \nQ 12.109375 9.234375 16.796875 8.0625 \nQ 21.484375 6.890625 26.703125 6.890625 \nQ 35.15625 6.890625 40.078125 11.328125 \nQ 45.015625 15.765625 45.015625 23.390625 \nQ 45.015625 31 40.078125 35.4375 \nQ 35.15625 39.890625 26.703125 39.890625 \nQ 22.75 39.890625 18.8125 39.015625 \nQ 14.890625 38.140625 10.796875 36.28125 \nz\n\" id=\"DejaVuSans-53\"/>\n       </defs>\n       <use xlink:href=\"#DejaVuSans-53\"/>\n       <use x=\"63.623047\" xlink:href=\"#DejaVuSans-48\"/>\n       <use x=\"127.246094\" xlink:href=\"#DejaVuSans-48\"/>\n       <use x=\"190.869141\" xlink:href=\"#DejaVuSans-48\"/>\n       <use x=\"254.492188\" xlink:href=\"#DejaVuSans-48\"/>\n      </g>\n     </g>\n    </g>\n   </g>\n   <g id=\"line2d_13\">\n    <path clip-path=\"url(#p5df3642e2a)\" d=\"M 61.230682 218.299147 \nL 64.305062 218.299147 \nL 67.379442 218.299147 \nL 70.453822 218.299147 \nL 73.528202 218.299147 \nL 76.602583 218.299147 \nL 79.676963 218.299147 \nL 82.751343 218.299147 \nL 85.825723 218.299147 \nL 88.900103 218.299147 \nL 91.974483 218.299147 \nL 95.048864 218.299147 \nL 98.123244 218.299147 \nL 101.197624 218.299147 \nL 104.272004 218.299147 \nL 107.346384 218.299147 \nL 110.420764 218.299147 \nL 113.495145 218.299147 \nL 116.569525 218.299147 \nL 119.643905 218.299147 \nL 122.718285 218.299147 \nL 125.792665 218.299147 \nL 128.867045 218.299147 \nL 131.941426 218.299147 \nL 135.015806 218.299147 \nL 138.090186 218.299147 \nL 141.164566 218.299147 \nL 144.238946 218.295001 \nL 147.313326 218.295001 \nL 150.387707 218.290855 \nL 153.462087 218.25354 \nL 156.536467 20.634712 \nL 159.610847 20.634712 \nL 162.685227 20.634712 \nL 165.759607 20.634712 \nL 168.833988 20.634712 \nL 171.908368 20.634712 \nL 174.982748 20.634712 \nL 178.057128 20.634712 \nL 181.131508 20.634712 \nL 184.205888 20.634712 \nL 187.280269 20.634712 \nL 190.354649 20.634712 \nL 193.429029 20.634712 \nL 196.503409 20.634712 \nL 199.577789 20.634712 \nL 202.652169 20.634712 \nL 205.72655 20.634712 \nL 208.80093 20.634712 \nL 211.87531 20.634712 \nL 214.94969 20.634712 \nL 218.02407 20.634712 \nL 221.09845 20.634712 \nL 224.172831 20.634712 \nL 227.247211 20.634712 \nL 230.321591 20.634712 \nL 233.395971 20.634712 \nL 236.470351 20.634712 \nL 239.544731 20.634712 \nL 242.619112 20.634712 \nL 245.693492 20.634712 \nL 248.767872 20.634712 \nL 251.842252 20.634712 \nL 254.916632 20.634712 \nL 257.991012 20.634712 \nL 261.065393 20.634712 \nL 264.139773 20.634712 \nL 267.214153 20.634712 \nL 270.288533 20.634712 \nL 273.362913 20.634712 \nL 276.437293 20.634712 \nL 279.511674 20.634712 \nL 282.586054 20.630566 \nL 285.660434 20.630566 \nL 288.734814 20.630566 \nL 291.809194 20.630566 \nL 294.883574 20.630566 \nL 297.957955 20.630566 \nL 301.032335 20.630566 \nL 304.106715 20.630566 \nL 307.181095 20.630566 \nL 310.255475 20.630566 \nL 313.329855 20.630566 \nL 316.404236 20.630566 \nL 319.478616 20.630566 \nL 322.552996 20.630566 \nL 325.627376 20.630566 \nL 328.701756 20.630566 \nL 331.776136 20.630566 \nL 334.850517 20.630566 \nL 337.924897 20.630566 \nL 340.999277 20.630566 \nL 344.073657 20.630566 \nL 347.148037 20.630566 \nL 350.222417 20.62642 \nL 353.296798 20.62642 \nL 356.371178 20.62642 \nL 359.445558 20.62642 \nL 362.519938 20.62642 \nL 365.594318 20.62642 \n\" style=\"fill:none;stroke:#1f77b4;stroke-linecap:square;stroke-width:1.5;\"/>\n   </g>\n   <g id=\"patch_3\">\n    <path d=\"M 46.0125 228.182784 \nL 46.0125 10.742784 \n\" style=\"fill:none;stroke:#000000;stroke-linecap:square;stroke-linejoin:miter;stroke-width:0.8;\"/>\n   </g>\n   <g id=\"patch_4\">\n    <path d=\"M 380.8125 228.182784 \nL 380.8125 10.742784 \n\" style=\"fill:none;stroke:#000000;stroke-linecap:square;stroke-linejoin:miter;stroke-width:0.8;\"/>\n   </g>\n   <g id=\"patch_5\">\n    <path d=\"M 46.0125 228.182784 \nL 380.8125 228.182784 \n\" style=\"fill:none;stroke:#000000;stroke-linecap:square;stroke-linejoin:miter;stroke-width:0.8;\"/>\n   </g>\n   <g id=\"patch_6\">\n    <path d=\"M 46.0125 10.742784 \nL 380.8125 10.742784 \n\" style=\"fill:none;stroke:#000000;stroke-linecap:square;stroke-linejoin:miter;stroke-width:0.8;\"/>\n   </g>\n  </g>\n </g>\n <defs>\n  <clipPath id=\"p5df3642e2a\">\n   <rect height=\"217.44\" width=\"334.8\" x=\"46.0125\" y=\"10.742784\"/>\n  </clipPath>\n </defs>\n</svg>\n",
      "image/png": "[encoded data removed]"
     },
     "metadata": {
      "needs_background": "light"
     }
    }
   ],
   "source": [
    "# for i in range(100):\n",
    "#     random_nodes[i] = random_nodes[i].item()\n",
    "random_nodes.sort()\n",
    "import matplotlib.pyplot as plt \n",
    "plt.plot(random_nodes)\n",
    "random_nodes[:10]"
   ]
  },
  {
   "cell_type": "code",
   "execution_count": 65,
   "metadata": {},
   "outputs": [
    {
     "output_type": "stream",
     "name": "stdout",
     "text": [
      "strongly conn tensor(0.4246)\nin conn tensor(0.6282)\nout conn tensor(0.7440)\n"
     ]
    }
   ],
   "source": [
    "print(\"strongly conn\", ((vals1>0).float() * (vals2>0).float()).mean())\n",
    "print(\"in conn\", (vals1>0).float().mean())\n",
    "print(\"out conn\", (vals2>0).float().mean())"
   ]
  },
  {
   "cell_type": "code",
   "execution_count": 54,
   "metadata": {},
   "outputs": [],
   "source": [
    "def bfs(graph, node, pointer_graph=None, pointer_inorout=0):\n",
    "    vals = torch.zeros(graph.x.shape[0], 1)-1\n",
    "    if pointer_graph is None:\n",
    "        pg = create_pointer_graph(graph)\n",
    "    else:\n",
    "        pg = pointer_graph\n",
    "    \n",
    "    expanded, toexpand, newset = set(), set(), set()\n",
    "    toexpand.add(node)\n",
    "    vals[node, 0] = 0\n",
    "    step = 1\n",
    "    lastlen = len(expanded)+1\n",
    "\n",
    "    while lastlen != len(expanded):\n",
    "        lastlen = len(expanded)\n",
    "        for toex in toexpand:\n",
    "            for candidate in pg[toex][pointer_inorout]:\n",
    "                if candidate not in expanded and candidate not in toexpand and candidate not in newset:\n",
    "                    vals[candidate] = vals[candidate]*0 + step\n",
    "                    newset.add(candidate)\n",
    "            expanded.add(toex)\n",
    "        toexpand = newset\n",
    "        newset = set()\n",
    "        step += 1\n",
    "\n",
    "    return vals"
   ]
  }
 ]
}