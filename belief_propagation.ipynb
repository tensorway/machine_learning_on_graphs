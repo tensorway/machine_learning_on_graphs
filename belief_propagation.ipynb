{
 "metadata": {
  "language_info": {
   "codemirror_mode": {
    "name": "ipython",
    "version": 3
   },
   "file_extension": ".py",
   "mimetype": "text/x-python",
   "name": "python",
   "nbconvert_exporter": "python",
   "pygments_lexer": "ipython3",
   "version": "3.8.2-final"
  },
  "orig_nbformat": 2,
  "kernelspec": {
   "name": "python38264bit41770f51cb494085b126429b02db281f",
   "display_name": "Python 3.8.2 64-bit"
  }
 },
 "nbformat": 4,
 "nbformat_minor": 2,
 "cells": [
  {
   "cell_type": "code",
   "execution_count": 4,
   "metadata": {},
   "outputs": [],
   "source": [
    "from torch_geometric.data import Data\n",
    "from utils import create_pointer_graph\n",
    "import numpy as np \n",
    "import torch"
   ]
  },
  {
   "cell_type": "code",
   "execution_count": 23,
   "metadata": {},
   "outputs": [
    {
     "output_type": "execute_result",
     "data": {
      "text/plain": "[([1], [1]), ([0, 2], [0, 2]), ([1, 3, 4], [1, 3, 4]), ([2], [2]), ([2], [2])]"
     },
     "metadata": {},
     "execution_count": 23
    }
   ],
   "source": [
    "edges = [[0, 1, 1, 2, 2, 2, 3, 4],\n",
    "         [1, 0, 2, 1, 3, 4, 2, 2]]\n",
    "edges = torch.tensor(edges)\n",
    "x = torch.zeros(5, 2, 1)+0.5\n",
    "graph = Data(x=x, edge_index=edges)\n",
    "pg = create_pointer_graph(graph)\n",
    "pg"
   ]
  },
  {
   "cell_type": "code",
   "execution_count": 79,
   "metadata": {
    "tags": []
   },
   "outputs": [],
   "source": [
    "psi = torch.zeros(graph.num_nodes, graph.num_nodes, 2, 2)\n",
    "fi = torch.zeros(graph.num_nodes, graph.num_nodes, 2, 2)\n",
    "psi[0, 1] = psi[2, 3] = torch.tensor([[1,   0.9], [0.9,   1]]) \n",
    "psi[1, 2] = psi[2, 4] = torch.tensor([[0.1, 1.0], [1.0, 0.1]])\n",
    "fi[1, 1]  = fi[3, 3]  = torch.tensor([[1  , 0.1], [0.1,   1]])\n",
    "\n",
    "\n",
    "phi[1][2] = phi[3][4] = np.array([[1, 0.9], [0.9, 1]])\n",
    "phi[2][3] = phi[3][5] = np.array([[0.1, 1], [1, 0.1]])\n",
    "phi[2][2] = phi[4][4] = np.array([[1, 0.1], [0.1, 1]])\n",
    "\n",
    "y3 = torch.tensor([[1], [0]]).float()\n",
    "y1 = torch.tensor([[0], [1]]).float()"
   ]
  },
  {
   "cell_type": "code",
   "execution_count": 99,
   "metadata": {},
   "outputs": [
    {
     "output_type": "execute_result",
     "data": {
      "text/plain": "tensor([[0.4944, 0.3936, 0.5141, 0.9091, 0.5000],\n        [0.5056, 0.6064, 0.4859, 0.0909, 0.5000]])"
     },
     "metadata": {},
     "execution_count": 99
    }
   ],
   "source": [
    "x4 = fi[3, 3]@y3\n",
    "x5 = graph.x[4]\n",
    "x3 = (psi[2, 3]@x4) * (psi[2, 4]@x5)\n",
    "x2 = (fi[1, 1]@y1) * (psi[1, 2]@x3)\n",
    "x1 = psi[0, 1]@x2\n",
    "xx = torch.cat([x1, x2, x3, x4, x5], dim=1)\n",
    "xx /xx.sum(axis=0)"
   ]
  },
  {
   "cell_type": "code",
   "execution_count": 98,
   "metadata": {},
   "outputs": [],
   "source": [
    "n = 5\n",
    "phi = [[None for i in range(n + 1)] for i in range(n + 1)]\n",
    "\n",
    "phi[1][2] = phi[3][4] = np.array([[1, 0.9], [0.9, 1]])\n",
    "phi[2][3] = phi[3][5] = np.array([[0.1, 1], [1, 0.1]])\n",
    "phi[2][2] = phi[4][4] = np.array([[1, 0.1], [0.1, 1]])\n",
    "\n",
    "belief = [None for i in range(n + 1)]\n",
    "\n",
    "post_3 = phi[3][4].dot(phi[4][4].dot(np.array([0, 1])) + phi[3][5].dot(np.array([1, 1])))\n",
    "post_2 = phi[2][2].dot(np.array([1, 0])) + phi[2][3].dot(post_3)\n",
    "unnormalized = phi[1][2].dot(post_2)\n",
    "belief[1] = unnormalized / np.sum(unnormalized)"
   ]
  },
  {
   "cell_type": "code",
   "execution_count": 77,
   "metadata": {},
   "outputs": [
    {
     "output_type": "execute_result",
     "data": {
      "text/plain": "([None, array([0.50322818, 0.49677182]), None, None, None, None],\n array([0.5613355, 0.4386645]),\n array([0.49282297, 0.50717703]))"
     },
     "metadata": {},
     "execution_count": 77
    }
   ],
   "source": [
    "belief, post_2/post_2.sum(), post_3/post_3.sum()"
   ]
  },
  {
   "cell_type": "code",
   "execution_count": null,
   "metadata": {},
   "outputs": [],
   "source": []
  }
 ]
}