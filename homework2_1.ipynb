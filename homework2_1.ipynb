{
 "metadata": {
  "language_info": {
   "codemirror_mode": {
    "name": "ipython",
    "version": 3
   },
   "file_extension": ".py",
   "mimetype": "text/x-python",
   "name": "python",
   "nbconvert_exporter": "python",
   "pygments_lexer": "ipython3",
   "version": "3.8.2-final"
  },
  "orig_nbformat": 2,
  "kernelspec": {
   "name": "python38264bit41770f51cb494085b126429b02db281f",
   "display_name": "Python 3.8.2 64-bit"
  }
 },
 "nbformat": 4,
 "nbformat_minor": 2,
 "cells": [
  {
   "cell_type": "code",
   "execution_count": 4,
   "metadata": {},
   "outputs": [],
   "source": [
    "from torch_geometric.data import Data\n",
    "from utils import create_pointer_graph\n",
    "import torch"
   ]
  },
  {
   "cell_type": "code",
   "execution_count": 60,
   "metadata": {},
   "outputs": [],
   "source": [
    "edges = [[1, 1, 2, 2, 2, 3, 3, 3, 4, 4, 4, 5, 5, 5, 6, 6, 6, 6, 7, 7, 8, 8, 8, 8, 9, 9, 9, 9, 10, 10],\n",
    "         [2, 3, 1, 3, 4, 1, 2, 6, 2, 8, 7, 6, 9, 8, 3, 5, 9, 10,4, 8, 7, 4, 5, 9, 8, 5, 6,10,  8,  6]]\n",
    "edges = torch.tensor(edges) - 1\n",
    "graph = Data(x=torch.zeros(10, 1)+0.5, edge_index=edges)"
   ]
  },
  {
   "cell_type": "code",
   "execution_count": 65,
   "metadata": {},
   "outputs": [],
   "source": [
    "pg = create_pointer_graph(graph)\n",
    "set_nodes = {'00'}"
   ]
  },
  {
   "cell_type": "code",
   "execution_count": 66,
   "metadata": {},
   "outputs": [],
   "source": [
    "def give_class(lidx, lclass, graph):\n",
    "    for idx, c in zip(lidx, lclass):\n",
    "        graph.x[idx, 0] = c\n",
    "        set_nodes.add(idx)\n",
    "give_class([2, 4, 7, 9], [1, 1, 0, 0], graph)"
   ]
  },
  {
   "cell_type": "code",
   "execution_count": 67,
   "metadata": {},
   "outputs": [],
   "source": [
    "for iiter in range(10):\n",
    "    for node in range(graph.num_nodes):\n",
    "        if node in set_nodes:\n",
    "            continue\n",
    "        suma = 0\n",
    "        for node2 in pg[node][0]:\n",
    "            suma += graph.x[node2][0]\n",
    "        graph.x[node, 0] = suma/len(pg[node][0])   \n",
    "    if iiter == 1:\n",
    "        give_class([1, 3, 5], [1, 1, 1], graph)\n"
   ]
  },
  {
   "cell_type": "code",
   "execution_count": 68,
   "metadata": {},
   "outputs": [
    {
     "output_type": "execute_result",
     "data": {
      "text/plain": "tensor([[ 1.0000,  1.0000],\n        [ 1.0000,  2.0000],\n        [ 1.0000,  3.0000],\n        [ 1.0000,  4.0000],\n        [ 1.0000,  5.0000],\n        [ 1.0000,  6.0000],\n        [ 0.5000,  7.0000],\n        [ 0.0000,  8.0000],\n        [ 0.5000,  9.0000],\n        [ 0.0000, 10.0000]])"
     },
     "metadata": {},
     "execution_count": 68
    }
   ],
   "source": [
    "torch.cat((graph.x, torch.range(1, graph.num_nodes).unsqueeze(-1).float()), dim=1)"
   ]
  },
  {
   "cell_type": "code",
   "execution_count": null,
   "metadata": {},
   "outputs": [],
   "source": []
  }
 ]
}