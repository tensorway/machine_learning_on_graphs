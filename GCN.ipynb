{
 "metadata": {
  "language_info": {
   "codemirror_mode": {
    "name": "ipython",
    "version": 3
   },
   "file_extension": ".py",
   "mimetype": "text/x-python",
   "name": "python",
   "nbconvert_exporter": "python",
   "pygments_lexer": "ipython3",
   "version": "3.8.2-final"
  },
  "orig_nbformat": 2,
  "kernelspec": {
   "name": "python38264bit41770f51cb494085b126429b02db281f",
   "display_name": "Python 3.8.2 64-bit"
  }
 },
 "nbformat": 4,
 "nbformat_minor": 2,
 "cells": [
  {
   "cell_type": "code",
   "execution_count": 15,
   "metadata": {},
   "outputs": [],
   "source": [
    "from torch_geometric.data import Data\n",
    "import torch\n",
    "import torch.nn as nn\n",
    "import torch.nn.functional as F \n",
    "import random\n",
    "from torch_geometric.datasets import CoraFull, TUDataset\n",
    "import numpy as np\n",
    "import torch_geometric as tg\n",
    "from utils import count_in_degree, count_out_degree, create_pointer_graph\n",
    "from torch.utils.tensorboard import SummaryWriter"
   ]
  },
  {
   "cell_type": "code",
   "execution_count": 9,
   "metadata": {
    "tags": []
   },
   "outputs": [],
   "source": [
    "# graphs = TUDataset(\"\", \"ENZYMES\")\n",
    "graphs = TUDataset(\"\", \"PROTEINS\")\n",
    "cora = CoraFull(\"\", \"Cora\").data\n",
    "perm = np.random.choice(list(range(len(graphs))), len(graphs), replace=False)\n",
    "graphs = [graphs[int(i)] for i in perm]\n",
    "ys = [graph.y.unsqueeze(0) for graph in graphs]\n",
    "ys = torch.cat(ys)"
   ]
  },
  {
   "cell_type": "code",
   "execution_count": 34,
   "metadata": {},
   "outputs": [
    {
     "output_type": "execute_result",
     "data": {
      "text/plain": [
       "tensor([[0, 0, 0, 1, 1, 1, 2, 2, 2, 3, 3, 3, 3, 4, 4, 4, 4, 5, 5, 5, 6, 6, 6, 7,\n",
       "         7, 7, 7, 8, 8, 8, 8, 9, 9, 9],\n",
       "        [2, 3, 4, 7, 8, 9, 0, 3, 4, 0, 2, 4, 5, 0, 2, 3, 5, 3, 4, 6, 5, 7, 8, 1,\n",
       "         6, 8, 9, 1, 6, 7, 9, 1, 7, 8]])"
      ]
     },
     "metadata": {},
     "execution_count": 34
    }
   ],
   "source": [
    "graphs[mini].edge_index"
   ]
  },
  {
   "cell_type": "code",
   "execution_count": 33,
   "metadata": {},
   "outputs": [
    {
     "output_type": "stream",
     "name": "stdout",
     "text": [
      "13\n10\n18\n5\n10\n146\n22\n14\n7\n96\n66\n38\n46\n32\n26\n36\n34\n26\n16\n14\n13\n16\n21\n54\n186\n22\n17\n6\n15\n27\n41\n24\n84\n21\n23\n38\n22\n11\n39\n93\n15\n125\n40\n108\n34\n22\n105\n11\n22\n8\n17\n40\n94\n5\n82\n153\n50\n20\n17\n11\n23\n11\n4\n30\n54\n40\n52\n20\n15\n36\n156\n24\n50\n33\n15\n10\n15\n38\n96\n15\n39\n19\n21\n26\n21\n31\n58\n20\n43\n23\n77\n46\n14\n116\n24\n27\n22\n31\n14\n10\n17\n28\n6\n17\n151\n6\n27\n35\n122\n41\n45\n15\n33\n10\n10\n96\n16\n23\n36\n8\n14\n89\n25\n30\n27\n14\n36\n36\n56\n19\n88\n13\n12\n31\n11\n44\n21\n17\n48\n33\n30\n24\n16\n58\n10\n246\n59\n42\n41\n57\n24\n23\n12\n16\n24\n32\n10\n20\n24\n32\n23\n21\n189\n59\n94\n5\n11\n24\n27\n14\n33\n10\n39\n23\n20\n7\n32\n52\n8\n62\n19\n80\n9\n16\n30\n12\n20\n28\n38\n34\n159\n30\n14\n34\n10\n33\n18\n19\n15\n55\n15\n27\n24\n81\n35\n24\n7\n6\n31\n9\n30\n109\n48\n20\n111\n29\n18\n50\n80\n22\n12\n12\n88\n28\n57\n39\n136\n6\n20\n4\n15\n39\n4\n7\n12\n8\n34\n48\n15\n6\n94\n21\n47\n21\n73\n50\n59\n5\n41\n13\n49\n20\n52\n25\n30\n9\n32\n226\n33\n113\n28\n74\n30\n39\n23\n23\n64\n18\n17\n38\n244\n26\n14\n20\n5\n18\n54\n6\n95\n12\n27\n38\n84\n123\n23\n34\n43\n149\n47\n18\n52\n12\n24\n39\n20\n35\n87\n4\n18\n28\n19\n8\n30\n5\n21\n504\n60\n21\n24\n20\n108\n33\n48\n23\n12\n87\n38\n18\n8\n20\n33\n22\n26\n13\n64\n30\n8\n54\n38\n43\n10\n23\n8\n32\n33\n20\n8\n24\n15\n60\n37\n5\n98\n56\n28\n71\n23\n9\n9\n31\n144\n4\n4\n4\n27\n64\n75\n10\n84\n72\n63\n11\n32\n16\n27\n53\n34\n16\n23\n139\n6\n22\n70\n84\n28\n32\n9\n40\n23\n55\n29\n27\n20\n32\n77\n19\n20\n23\n14\n16\n24\n23\n620\n82\n13\n20\n17\n14\n53\n6\n43\n11\n46\n24\n51\n133\n26\n16\n9\n8\n20\n20\n24\n23\n134\n16\n22\n17\n100\n52\n168\n54\n27\n46\n7\n60\n43\n99\n17\n16\n40\n12\n45\n28\n72\n54\n16\n35\n72\n59\n76\n40\n45\n38\n9\n147\n10\n18\n43\n18\n328\n70\n54\n55\n34\n21\n17\n39\n27\n15\n18\n32\n53\n34\n13\n10\n22\n9\n18\n95\n108\n15\n152\n20\n80\n26\n44\n5\n11\n30\n13\n30\n23\n131\n5\n79\n17\n90\n36\n9\n22\n12\n36\n50\n48\n22\n9\n51\n27\n10\n55\n22\n11\n13\n48\n22\n10\n26\n20\n24\n5\n23\n41\n22\n22\n23\n21\n44\n18\n46\n285\n59\n19\n170\n28\n32\n30\n126\n19\n27\n48\n15\n31\n12\n7\n105\n37\n5\n19\n11\n58\n46\n38\n12\n77\n12\n18\n8\n34\n17\n17\n14\n38\n14\n51\n24\n11\n10\n44\n58\n31\n23\n24\n31\n18\n22\n20\n72\n126\n58\n8\n36\n23\n17\n24\n19\n5\n82\n23\n16\n15\n39\n73\n12\n30\n65\n30\n83\n7\n29\n30\n6\n74\n23\n31\n21\n17\n10\n17\n15\n31\n94\n66\n24\n10\n66\n36\n27\n40\n14\n8\n44\n5\n16\n47\n20\n21\n5\n60\n36\n26\n6\n38\n82\n4\n23\n8\n26\n34\n11\n15\n30\n10\n47\n40\n21\n12\n16\n44\n14\n50\n101\n11\n20\n20\n15\n57\n126\n13\n24\n10\n52\n54\n24\n5\n35\n38\n42\n59\n26\n94\n24\n23\n29\n25\n46\n8\n133\n124\n24\n31\n11\n36\n36\n14\n19\n15\n14\n19\n40\n72\n25\n19\n13\n24\n20\n20\n71\n9\n64\n66\n28\n41\n72\n9\n71\n481\n20\n30\n21\n10\n24\n10\n11\n59\n93\n35\n10\n10\n36\n20\n23\n20\n8\n14\n37\n58\n43\n22\n34\n85\n17\n38\n8\n25\n26\n8\n16\n33\n40\n20\n154\n56\n188\n74\n15\n64\n34\n58\n46\n112\n15\n47\n24\n8\n80\n23\n6\n4\n9\n208\n96\n6\n14\n16\n26\n40\n46\n25\n12\n9\n42\n91\n24\n35\n6\n20\n56\n34\n22\n15\n180\n7\n27\n55\n74\n56\n42\n61\n140\n16\n5\n162\n7\n27\n6\n63\n19\n12\n67\n60\n46\n273\n48\n56\n11\n12\n20\n7\n16\n5\n22\n12\n229\n8\n21\n25\n21\n78\n34\n11\n16\n30\n14\n157\n60\n30\n10\n7\n50\n43\n11\n6\n18\n47\n10\n39\n6\n16\n22\n36\n98\n62\n12\n37\n98\n45\n53\n45\n39\n25\n15\n11\n13\n15\n38\n35\n10\n54\n11\n27\n23\n69\n17\n10\n44\n14\n11\n7\n36\n21\n96\n7\n22\n20\n22\n59\n11\n27\n4\n29\n21\n40\n36\n63\n20\n34\n76\n25\n32\n10\n17\n51\n18\n22\n150\n33\n19\n60\n27\n33\n148\n23\n34\n26\n70\n29\n40\n7\n14\n18\n38\n36\n9\n40\n7\n136\n18\n31\n9\n19\n19\n88\n12\n29\n14\n19\n19\n20\n16\n42\n80\n9\n8\n14\n13\n43\n24\n61\n28\n36\n16\n180\n30\n36\n42\n9\n20\n11\n103\n22\n6\n32\n16\n27\n90\n38\n38\n63\n70\n26\n60\n27\n26\n50\n16\n11\n88\n23\n18\n52\n22\n68\n32\n18\n32\n21\n47\n32\n21\n14\n7\n13\n5\n58\n8\n38\n25\n4\n27\n41\n13\n24\n42\n336\n78\n31\n12\n31\n55\n24\n44\n29\n7\n6\n62\n67\n24\n37\n22\n25\n101\n69\n96\n23\n27\n86\n22\n66\n42\n11\n36\n32\n25\n102\n122\n35\n116\n5\n39\n38\n70\n18\n88\n27\n24\n26\n6\n30\n21\n33\n27\n20\n4\n8\n4\n66\n11\n22\n34\n11\n60\n6\n56\n34\n26\n28\n29\n10\n9\n34\n27\n30\n75\n10\n30\n69\n19\n14\n6\n20\n40\n7\n27\n18\n22\n152\n85\n17\n148\n41\n43\n31\n34\n10\n45\n16\n6\n12\n50\n6\n15\n13\n18\n14\n29\n32\n58\n39\n32\n14\n99\n22\n17\n22\n13\n8\n33\n26\n62\n117\n8\n14\n21\n42\n28\n42\n6\n32\n69\n5\n7\n15\n"
     ]
    },
    {
     "output_type": "execute_result",
     "data": {
      "text/plain": [
       "(10, 1)"
      ]
     },
     "metadata": {},
     "execution_count": 33
    }
   ],
   "source": [
    "mini, minv = -1, 100000\n",
    "maxv = 10\n",
    "for i, graph in enumerate(graphs):\n",
    "    print(graph.num_nodes)\n",
    "    if minv > graph.num_nodes and maxv <= graph.num_nodes:\n",
    "        minv = graph.num_nodes\n",
    "        mini = i\n",
    "minv, mini"
   ]
  },
  {
   "cell_type": "code",
   "execution_count": 47,
   "metadata": {},
   "outputs": [
    {
     "output_type": "execute_result",
     "data": {
      "text/plain": [
       "([([1, 9], [9, 1]),\n",
       "  ([2, 0], [0, 2]),\n",
       "  ([3, 1], [1, 3]),\n",
       "  ([4, 2], [2, 4]),\n",
       "  ([5, 3], [3, 5]),\n",
       "  ([6, 4], [4, 6]),\n",
       "  ([7, 5], [5, 7]),\n",
       "  ([8, 6], [6, 8]),\n",
       "  ([9, 7], [7, 9]),\n",
       "  ([0, 8], [8, 0])],\n",
       " tensor([[0, 1, 2, 3, 4, 5, 6, 7, 8, 9, 1, 2, 3, 4, 5, 6, 7, 8, 9, 0],\n",
       "         [1, 2, 3, 4, 5, 6, 7, 8, 9, 0, 0, 1, 2, 3, 4, 5, 6, 7, 8, 9]]))"
      ]
     },
     "metadata": {},
     "execution_count": 47
    }
   ],
   "source": [
    "numel = 10\n",
    "ei = torch.tensor([list(range(numel)), [(i+1)%numel for i in range(numel)]])\n",
    "ei2= torch.cat((ei[1].unsqueeze(0), ei[0].unsqueeze(0)))\n",
    "ei = torch.cat((ei, ei2), dim=1)\n",
    "xi = torch.zeros(numel, 1)\n",
    "graphi = Data(x=xi, edge_index=ei)\n",
    "create_pointer_graph(graphi), ei"
   ]
  },
  {
   "cell_type": "code",
   "execution_count": 58,
   "metadata": {},
   "outputs": [
    {
     "output_type": "execute_result",
     "data": {
      "text/plain": [
       "tensor(34.)"
      ]
     },
     "metadata": {},
     "execution_count": 58
    }
   ],
   "source": [
    "def bfs(graph, node):\n",
    "    vals = torch.zeros(graph.x.shape[0], 1)-1\n",
    "    pg = create_pointer_graph(graph)\n",
    "    expanded, toexpand, newset = set(), [node], []\n",
    "    vals[node, 0] = 0\n",
    "    step = 1\n",
    "    lastlen = len(expanded)+1\n",
    "    while lastlen != len(expanded):\n",
    "        lastlen = len(expanded)\n",
    "        for toex in toexpand:\n",
    "            for candidate in pg[toex][0]:\n",
    "                if candidate not in expanded:\n",
    "                    vals[candidate] = vals[candidate]*0 + step\n",
    "                    newset.append(candidate)\n",
    "            expanded.add(toex)\n",
    "        toexpand = newset\n",
    "        newset = []\n",
    "        step += 1\n",
    "        # print(expanded, toexpand, newset, lastlen)\n",
    "    return vals\n",
    "def get_diamenter(graph):\n",
    "    max_dist = -1\n",
    "    for node in range(graph.num_nodes):\n",
    "        vals = bfs(graph, node)\n",
    "        max = torch.max(vals)\n",
    "        if max_dist < max:\n",
    "            max_dist = max\n",
    "    return max_dist\n",
    "\n",
    "bfs(graphs[mini], 8), \n",
    "get_diamenter(graphs[10])\n",
    "# bfs(graphi, 0)"
   ]
  },
  {
   "cell_type": "code",
   "execution_count": 59,
   "metadata": {},
   "outputs": [],
   "source": [
    "degs = []\n",
    "for graph in graphs:\n",
    "    degs.append({\"in\":count_in_degree(graph), \"out\":count_out_degree(graph)})"
   ]
  },
  {
   "cell_type": "code",
   "execution_count": 60,
   "metadata": {
    "tags": []
   },
   "outputs": [],
   "source": [
    "embdim = 16\n",
    "for graph in graphs:\n",
    "    zeros = torch.zeros(graph.x.shape[0], 16-graph.x.shape[1])\n",
    "    graph.x = torch.cat((graph.x, zeros), dim=1)"
   ]
  },
  {
   "cell_type": "code",
   "execution_count": 61,
   "metadata": {
    "tags": []
   },
   "outputs": [
    {
     "output_type": "stream",
     "name": "stdout",
     "text": [
      "tensor([1])\n"
     ]
    }
   ],
   "source": [
    "maxi = -1\n",
    "for graph in graphs:\n",
    "    maxi = torch.max(torch.max(graph.y), torch.zeros_like(graph.y)+maxi)\n",
    "print(maxi)"
   ]
  },
  {
   "cell_type": "code",
   "execution_count": 58,
   "metadata": {
    "tags": []
   },
   "outputs": [],
   "source": []
  },
  {
   "cell_type": "code",
   "execution_count": 62,
   "metadata": {
    "tags": []
   },
   "outputs": [],
   "source": [
    "class GCNLayer(nn.Module):\n",
    "    def __init__(self, embdim):\n",
    "        super().__init__()\n",
    "        self.lin = nn.Linear(embdim, embdim)\n",
    "        self.mlp = MLP([embdim, 16, embdim])\n",
    "    def forward(self, x, graph, igraph):\n",
    "        newx = torch.zeros_like(x)\n",
    "\n",
    "        #get features\n",
    "        # h = self.lin(x)\n",
    "        h = x\n",
    "\n",
    "        #add self loops\n",
    "        tmp = torch.range(0, graph.num_nodes-1).unsqueeze(0)\n",
    "        tmp = torch.cat((tmp, tmp)).long()\n",
    "        graph.edge_index = torch.cat((graph.edge_index, tmp), dim=1)\n",
    "\n",
    "        #pass messages\n",
    "        for outnode, innode in zip(graph.edge_index[0], graph.edge_index[1]):\n",
    "            newx[innode] += h[outnode]*1/((1+degs[igraph][\"in\"][innode])*(1+degs[igraph][\"out\"][outnode]))\n",
    "\n",
    "        newx = self.mlp(newx)\n",
    "        return newx\n",
    "\n",
    "class MLP(nn.Module):\n",
    "    def __init__(self, arch, last_activation=F.relu):\n",
    "        super().__init__()\n",
    "        self.lins = nn.ModuleList([nn.Linear(a, b) for a, b in zip(arch[:-1], arch[1:])])\n",
    "        self.last_activation = last_activation\n",
    "    def forward(self, x):\n",
    "        h = x\n",
    "        for lin in self.lins[:-1]:\n",
    "            h = F.relu(lin(h)) #+h\n",
    "        h = self.last_activation(self.lins[-1](h))\n",
    "        return h\n",
    "\n",
    "class Model(nn.Module):\n",
    "    def __init__(self, n, embdim=16):\n",
    "        super().__init__()\n",
    "        self.layers = nn.ModuleList([GCNLayer(embdim) for i in range(n)])\n",
    "        self.classifier = MLP( [embdim, 16, 16, 2], last_activation= lambda x: torch.softmax(x, dim=-1))\n",
    "        self.embdim = embdim\n",
    "    def forward(self, graph, igraph):\n",
    "        h = graph.x.clone()\n",
    "        zeros = torch.zeros(h.shape[0], self.embdim-h.shape[1])\n",
    "        h = torch.cat((h, zeros), dim=1)     \n",
    "\n",
    "        for layer in self.layers:\n",
    "            h = layer(h, graph, igraph)\n",
    "        x = h.mean(dim=0, keepdim=True)\n",
    "        preds = self.classifier(x)\n",
    "        return preds\n",
    "\n",
    "model = Model(100)"
   ]
  },
  {
   "cell_type": "code",
   "execution_count": 63,
   "metadata": {},
   "outputs": [],
   "source": [
    "opt = torch.optim.Adam(model.parameters(), lr=0.001)"
   ]
  },
  {
   "cell_type": "code",
   "execution_count": 42,
   "metadata": {
    "tags": []
   },
   "outputs": [
    {
     "output_type": "stream",
     "name": "stdout",
     "text": "mkdir: cannot create directory ‘tb’: File exists\ntensor([[0.5280, 0.4720],\n        [0.6125, 0.3875],\n        [0.5282, 0.4718],\n        [0.5313, 0.4687],\n        [0.5308, 0.4692],\n        [0.5317, 0.4683],\n        [0.5317, 0.4683],\n        [0.5279, 0.4721]], grad_fn=&lt;CatBackward&gt;)\n0 1 0.6638650894165039 0.5\ntensor([[0.5325, 0.4675],\n        [0.5325, 0.4675],\n        [0.5325, 0.4675],\n        [0.5325, 0.4675],\n        [0.5325, 0.4675],\n        [0.5325, 0.4675],\n        [0.5325, 0.4675],\n        [0.5325, 0.4675]], grad_fn=&lt;CatBackward&gt;)\n0 2 0.662712812423706 0.5\ntensor([[0.5341, 0.4659],\n        [0.5341, 0.4659],\n        [0.5341, 0.4659],\n        [0.5342, 0.4658],\n        [0.5341, 0.4659],\n        [0.5341, 0.4659],\n        [0.5341, 0.4659],\n        [0.5341, 0.4659]], grad_fn=&lt;CatBackward&gt;)\n0 3 0.6612917184829712 0.5\ntensor([[0.5358, 0.4642],\n        [0.5358, 0.4642],\n        [0.5358, 0.4642],\n        [0.5358, 0.4642],\n        [0.5358, 0.4642],\n        [0.5359, 0.4641],\n        [0.5358, 0.4642],\n        [0.5358, 0.4642]], grad_fn=&lt;CatBackward&gt;)\n0 4 0.7316137552261353 0.5\ntensor([[0.5362, 0.4638],\n        [0.5362, 0.4638],\n        [0.5362, 0.4638],\n        [0.5362, 0.4638],\n        [0.5362, 0.4638],\n        [0.5362, 0.4638],\n        [0.5362, 0.4638],\n        [0.5362, 0.4638]], grad_fn=&lt;CatBackward&gt;)\n0 5 0.6776483058929443 0.5\ntensor([[0.5367, 0.4633],\n        [0.5367, 0.4633],\n        [0.5367, 0.4633],\n        [0.5367, 0.4633],\n        [0.5367, 0.4633],\n        [0.5367, 0.4633],\n        [0.5368, 0.4632],\n        [0.5367, 0.4633]], grad_fn=&lt;CatBackward&gt;)\n0 6 0.6406500935554504 0.5\ntensor([[0.5377, 0.4623],\n        [0.5376, 0.4624],\n        [0.5376, 0.4624],\n        [0.5376, 0.4624],\n        [0.5376, 0.4624],\n        [0.5376, 0.4624],\n        [0.5376, 0.4623],\n        [0.5376, 0.4624]], grad_fn=&lt;CatBackward&gt;)\n0 7 0.6959967017173767 0.5\ntensor([[0.5384, 0.4616],\n        [0.5384, 0.4616],\n        [0.5384, 0.4616],\n        [0.5384, 0.4616],\n        [0.5384, 0.4616],\n        [0.5384, 0.4616],\n        [0.5384, 0.4616],\n        [0.5384, 0.4616]], grad_fn=&lt;CatBackward&gt;)\n0 8 0.6768694519996643 0.5\ntensor([[0.5392, 0.4608],\n        [0.5392, 0.4608],\n        [0.5392, 0.4608],\n        [0.5392, 0.4608],\n        [0.5392, 0.4608],\n        [0.5392, 0.4608],\n        [0.5392, 0.4608],\n        [0.5392, 0.4608]], grad_fn=&lt;CatBackward&gt;)\n0 9 0.6962295770645142 0.5\ntensor([[0.5398, 0.4602],\n        [0.5398, 0.4602],\n        [0.5398, 0.4602],\n        [0.5398, 0.4602],\n        [0.5398, 0.4602],\n        [0.5398, 0.4602],\n        [0.5398, 0.4602],\n        [0.5398, 0.4602]], grad_fn=&lt;CatBackward&gt;)\n0 10 0.6564382314682007 0.5\n"
    },
    {
     "output_type": "error",
     "ename": "KeyboardInterrupt",
     "evalue": "",
     "traceback": [
      "\u001b[0;31m---------------------------------------------------------------------------\u001b[0m",
      "\u001b[0;31mKeyboardInterrupt\u001b[0m                         Traceback (most recent call last)",
      "\u001b[0;32m&lt;ipython-input-42-40262e05c777&gt;\u001b[0m in \u001b[0;36m&lt;module&gt;\u001b[0;34m\u001b[0m\n\u001b[1;32m     23\u001b[0m             \u001b[0macc\u001b[0m \u001b[0;34m=\u001b[0m \u001b[0;34m(\u001b[0m\u001b[0;34m(\u001b[0m\u001b[0mbpreds\u001b[0m\u001b[0;34m&gt;\u001b[0m\u001b[0;36m0.5\u001b[0m\u001b[0;34m)\u001b[0m\u001b[0;34m.\u001b[0m\u001b[0msqueeze\u001b[0m\u001b[0;34m(\u001b[0m\u001b[0;34m-\u001b[0m\u001b[0;36m1\u001b[0m\u001b[0;34m)\u001b[0m\u001b[0;34m==\u001b[0m\u001b[0my\u001b[0m\u001b[0;34m)\u001b[0m\u001b[0;34m.\u001b[0m\u001b[0mfloat\u001b[0m\u001b[0;34m(\u001b[0m\u001b[0;34m)\u001b[0m\u001b[0;34m.\u001b[0m\u001b[0mmean\u001b[0m\u001b[0;34m(\u001b[0m\u001b[0;34m)\u001b[0m\u001b[0;34m\u001b[0m\u001b[0;34m\u001b[0m\u001b[0m\n\u001b[1;32m     24\u001b[0m             \u001b[0mopt\u001b[0m\u001b[0;34m.\u001b[0m\u001b[0mzero_grad\u001b[0m\u001b[0;34m(\u001b[0m\u001b[0;34m)\u001b[0m\u001b[0;34m\u001b[0m\u001b[0;34m\u001b[0m\u001b[0m\n\u001b[0;32m---&gt; 25\u001b[0;31m             \u001b[0mloss\u001b[0m\u001b[0;34m.\u001b[0m\u001b[0mbackward\u001b[0m\u001b[0;34m(\u001b[0m\u001b[0;34m)\u001b[0m\u001b[0;34m\u001b[0m\u001b[0;34m\u001b[0m\u001b[0m\n\u001b[0m\u001b[1;32m     26\u001b[0m             \u001b[0mopt\u001b[0m\u001b[0;34m.\u001b[0m\u001b[0mstep\u001b[0m\u001b[0;34m(\u001b[0m\u001b[0;34m)\u001b[0m\u001b[0;34m\u001b[0m\u001b[0;34m\u001b[0m\u001b[0m\n\u001b[1;32m     27\u001b[0m             \u001b[0mibatch\u001b[0m \u001b[0;34m+=\u001b[0m \u001b[0;36m1\u001b[0m\u001b[0;34m\u001b[0m\u001b[0;34m\u001b[0m\u001b[0m\n",
      "\u001b[0;32m~/.local/lib/python3.8/site-packages/torch/tensor.py\u001b[0m in \u001b[0;36mbackward\u001b[0;34m(self, gradient, retain_graph, create_graph)\u001b[0m\n\u001b[1;32m    196\u001b[0m                 \u001b[0mproducts\u001b[0m\u001b[0;34m.\u001b[0m \u001b[0mDefaults\u001b[0m \u001b[0mto\u001b[0m\u001b[0;31m \u001b[0m\u001b[0;31m`\u001b[0m\u001b[0;31m`\u001b[0m\u001b[0;32mFalse\u001b[0m\u001b[0;31m`\u001b[0m\u001b[0;31m`\u001b[0m\u001b[0;34m.\u001b[0m\u001b[0;34m\u001b[0m\u001b[0;34m\u001b[0m\u001b[0m\n\u001b[1;32m    197\u001b[0m         &quot;&quot;&quot;\n\u001b[0;32m--&gt; 198\u001b[0;31m         \u001b[0mtorch\u001b[0m\u001b[0;34m.\u001b[0m\u001b[0mautograd\u001b[0m\u001b[0;34m.\u001b[0m\u001b[0mbackward\u001b[0m\u001b[0;34m(\u001b[0m\u001b[0mself\u001b[0m\u001b[0;34m,\u001b[0m \u001b[0mgradient\u001b[0m\u001b[0;34m,\u001b[0m \u001b[0mretain_graph\u001b[0m\u001b[0;34m,\u001b[0m \u001b[0mcreate_graph\u001b[0m\u001b[0;34m)\u001b[0m\u001b[0;34m\u001b[0m\u001b[0;34m\u001b[0m\u001b[0m\n\u001b[0m\u001b[1;32m    199\u001b[0m \u001b[0;34m\u001b[0m\u001b[0m\n\u001b[1;32m    200\u001b[0m     \u001b[0;32mdef\u001b[0m \u001b[0mregister_hook\u001b[0m\u001b[0;34m(\u001b[0m\u001b[0mself\u001b[0m\u001b[0;34m,\u001b[0m \u001b[0mhook\u001b[0m\u001b[0;34m)\u001b[0m\u001b[0;34m:\u001b[0m\u001b[0;34m\u001b[0m\u001b[0;34m\u001b[0m\u001b[0m\n",
      "\u001b[0;32m~/.local/lib/python3.8/site-packages/torch/autograd/__init__.py\u001b[0m in \u001b[0;36mbackward\u001b[0;34m(tensors, grad_tensors, retain_graph, create_graph, grad_variables)\u001b[0m\n\u001b[1;32m     96\u001b[0m         \u001b[0mretain_graph\u001b[0m \u001b[0;34m=\u001b[0m \u001b[0mcreate_graph\u001b[0m\u001b[0;34m\u001b[0m\u001b[0;34m\u001b[0m\u001b[0m\n\u001b[1;32m     97\u001b[0m \u001b[0;34m\u001b[0m\u001b[0m\n\u001b[0;32m---&gt; 98\u001b[0;31m     Variable._execution_engine.run_backward(\n\u001b[0m\u001b[1;32m     99\u001b[0m         \u001b[0mtensors\u001b[0m\u001b[0;34m,\u001b[0m \u001b[0mgrad_tensors\u001b[0m\u001b[0;34m,\u001b[0m \u001b[0mretain_graph\u001b[0m\u001b[0;34m,\u001b[0m \u001b[0mcreate_graph\u001b[0m\u001b[0;34m,\u001b[0m\u001b[0;34m\u001b[0m\u001b[0;34m\u001b[0m\u001b[0m\n\u001b[1;32m    100\u001b[0m         allow_unreachable=True)  # allow_unreachable flag\n",
      "\u001b[0;31mKeyboardInterrupt\u001b[0m: "
     ]
    }
   ],
   "source": [
    "! mkdir tb\n",
    "writer = SummaryWriter('tb/non_test_huge100') \n",
    "\n",
    "bsize, bpass, ibatch = 8, 0, 0\n",
    "bpreds = torch.zeros(0, 2)\n",
    "# ys = graphs.data.y\n",
    "for ep in range(10):\n",
    "    for igraph, graph in enumerate(graphs[:]):\n",
    "        preds = model(graph, igraph)\n",
    "        if bpass < bsize:\n",
    "            bpreds = torch.cat((bpreds, preds))\n",
    "            bpass += 1\n",
    "        else:\n",
    "            y = ys[ibatch*bsize:(ibatch+1)*bsize]\n",
    "            yhot = F.one_hot(y.squeeze(-1), num_classes=2)\n",
    "            # print(y.shape, bpreds.shape)\n",
    "            # print(bpreds)\n",
    "            # print(yhot)\n",
    "            # print(y)\n",
    "            # loss = F.cross_entropy(bpreds, yhot)\n",
    "            loss = -(yhot*torch.log(bpreds+1e-8) + (1-yhot)*torch.log(1-bpreds+1e-8)).mean()\n",
    "\n",
    "            acc = ((bpreds>0.5).squeeze(-1)==y).float().mean()\n",
    "            opt.zero_grad()\n",
    "            loss.backward()\n",
    "            opt.step()\n",
    "            ibatch += 1\n",
    "            bpass = 0\n",
    "            print(bpreds)\n",
    "            bpreds = torch.zeros(0, 2)\n",
    "            writer.add_scalar(\"loss\", loss.item(), ibatch)\n",
    "            writer.add_scalar(\"acc\" , acc.item() , ibatch)\n",
    "            # print(torch.argmax(preds, dim=1))\n",
    "            # print(y)\n",
    "            print(ep, ibatch, loss.item(), acc.item())\n",
    "\n"
   ]
  },
  {
   "cell_type": "code",
   "execution_count": 104,
   "metadata": {
    "tags": []
   },
   "outputs": [
    {
     "output_type": "stream",
     "name": "stdout",
     "text": "torch.Size([4]) torch.Size([4]) torch.Size([4, 70]) torch.Size([4, 70])\n"
    },
    {
     "output_type": "execute_result",
     "data": {
      "text/plain": "tensor(0.)"
     },
     "metadata": {},
     "execution_count": 104
    }
   ],
   "source": [
    "preds = torch.randn_like(yhot.float())\n",
    "print(torch.argmax(preds, dim=1).shape, y.shape, yhot.shape, preds.shape)\n",
    "(torch.argmax(preds, dim=1)==y).float().mean()"
   ]
  },
  {
   "cell_type": "code",
   "execution_count": 23,
   "metadata": {},
   "outputs": [
    {
     "output_type": "execute_result",
     "data": {
      "text/plain": "Data(edge_index=[2, 162088], x=[43471, 3], y=[1113])"
     },
     "metadata": {},
     "execution_count": 23
    }
   ],
   "source": [
    "graphs.data"
   ]
  },
  {
   "cell_type": "code",
   "execution_count": null,
   "metadata": {},
   "outputs": [],
   "source": []
  }
 ]
}